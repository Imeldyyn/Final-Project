{
 "cells": [
  {
   "cell_type": "code",
   "execution_count": 47,
   "id": "3bc6a6db-5ae9-43df-a976-16e52f342449",
   "metadata": {},
   "outputs": [],
   "source": [
    "import pandas as pd\n",
    "from statistics import multimode\n",
    "import numpy as np\n",
    "import scipy.stats as stats"
   ]
  },
  {
   "cell_type": "code",
   "execution_count": 7,
   "id": "f230fa46-d801-47fb-8687-d3791f1ea1cd",
   "metadata": {},
   "outputs": [
    {
     "name": "stdout",
     "output_type": "stream",
     "text": [
      "    TransactionAmount\n",
      "0                 100\n",
      "1                 150\n",
      "2                  50\n",
      "3                 100\n",
      "4                 130\n",
      "5                 120\n",
      "6                 100\n",
      "7                  85\n",
      "8                  70\n",
      "9                 150\n",
      "10                150\n",
      "11                120\n",
      "12                 50\n",
      "13                100\n",
      "14                100\n",
      "15                140\n",
      "16                 90\n",
      "17                150\n",
      "18                 50\n",
      "19                 90\n",
      "20                120\n",
      "21                100\n",
      "22                110\n",
      "23                 75\n",
      "24                 65\n"
     ]
    }
   ],
   "source": [
    "# Data penjualan\n",
    "data = [100, 150, 50, 100, 130, 120, 100, 85, 70, 150, 150, 120, 50, 100, 100,\n",
    "        140, 90, 150, 50, 90, 120, 100, 110, 75, 65]\n",
    "\n",
    "# Membuat DataFrame\n",
    "df = pd.DataFrame(data, columns=['TransactionAmount'])\n",
    "\n",
    "# Menampilkan DataFrame\n",
    "print(df)\n"
   ]
  },
  {
   "cell_type": "code",
   "execution_count": 34,
   "id": "e4609682-24ac-468e-91c5-c62a1b72f3ee",
   "metadata": {},
   "outputs": [
    {
     "name": "stdout",
     "output_type": "stream",
     "text": [
      "Mean (Rata-Rata): 102.6\n",
      "Median: 100.0\n",
      "Mode: [100]\n",
      "Multimode: [100]\n"
     ]
    }
   ],
   "source": [
    "# Menghitung mean\n",
    "mean_value = df['TransactionAmount'].mean()\n",
    "\n",
    "# Menghitung median\n",
    "median_value = df['TransactionAmount'].median()\n",
    "\n",
    "# Menghitung mode\n",
    "mode_value = df['TransactionAmount'].mode()\n",
    "\n",
    "# Menghitung multimode\n",
    "multimode_value = multimode(df['TransactionAmount'].tolist())\n",
    "\n",
    "# Menampilkan hasil\n",
    "print(f\"Mean (Rata-Rata): {mean_value}\")\n",
    "print(f\"Median: {median_value}\")\n",
    "print(f\"Mode: {mode_value.values}\")\n",
    "print(f\"Multimode: {multimode_value}\")\n"
   ]
  },
  {
   "cell_type": "code",
   "execution_count": 11,
   "id": "74f6ff29-f44d-49a9-ac07-42d21a143da5",
   "metadata": {},
   "outputs": [
    {
     "name": "stdout",
     "output_type": "stream",
     "text": [
      "Range (Rentang): 100\n",
      "Variance (Variansi): 1012.7499999999997\n",
      "Standard Deviation (Deviasi Standar): 31.82373328193912\n",
      "Interquartile Range (IQR): 35.0\n"
     ]
    }
   ],
   "source": [
    "# Menghitung rentang (range)\n",
    "data_range = df['TransactionAmount'].max() - df['TransactionAmount'].min()\n",
    "\n",
    "# Menghitung variansi\n",
    "variance = df['TransactionAmount'].var()\n",
    "\n",
    "# Menghitung deviasi standar (standard deviation)\n",
    "std_dev = df['TransactionAmount'].std()\n",
    "\n",
    "# Menghitung interquartile range (IQR)\n",
    "Q1 = df['TransactionAmount'].quantile(0.25)\n",
    "Q3 = df['TransactionAmount'].quantile(0.75)\n",
    "IQR = Q3 - Q1\n",
    "\n",
    "# Menampilkan hasil\n",
    "print(f\"Range (Rentang): {data_range}\")\n",
    "print(f\"Variance (Variansi): {variance}\")\n",
    "print(f\"Standard Deviation (Deviasi Standar): {std_dev}\")\n",
    "print(f\"Interquartile Range (IQR): {IQR}\")"
   ]
  },
  {
   "cell_type": "code",
   "execution_count": 43,
   "id": "0299737c-9f7a-47f0-bf66-aaed37d1000d",
   "metadata": {},
   "outputs": [
    {
     "data": {
      "text/plain": [
       "25"
      ]
     },
     "execution_count": 43,
     "metadata": {},
     "output_type": "execute_result"
    }
   ],
   "source": [
    "len(df)"
   ]
  },
  {
   "cell_type": "code",
   "execution_count": null,
   "id": "110694bc-cf13-435d-a2aa-5c4d52775c2b",
   "metadata": {},
   "outputs": [],
   "source": [
    "#H0 = 100\n",
    "#H1 > 100\n",
    "#Define Alpha 0.05"
   ]
  },
  {
   "cell_type": "code",
   "execution_count": 49,
   "id": "ad92ebc2-926f-4e5a-bd35-7e4f23f4e3bb",
   "metadata": {},
   "outputs": [
    {
     "data": {
      "text/plain": [
       "TtestResult(statistic=array([0.40850016]), pvalue=array([0.68652848]), df=array([24]))"
      ]
     },
     "execution_count": 49,
     "metadata": {},
     "output_type": "execute_result"
    }
   ],
   "source": [
    "stats.ttest_1samp(a=df, popmean=100)"
   ]
  },
  {
   "cell_type": "code",
   "execution_count": null,
   "id": "8bdf0bc0-d2cf-4f87-94d2-3b1824db5c86",
   "metadata": {},
   "outputs": [],
   "source": [
    "#conclude with Alpha and P-value\n",
    "#as the P-Value is Larger the Alpha (5%), then we Fail to Reject H0"
   ]
  },
  {
   "cell_type": "code",
   "execution_count": 51,
   "id": "b63df426-2f14-46aa-8bd7-a9a8a6bae549",
   "metadata": {},
   "outputs": [
    {
     "data": {
      "text/plain": [
       "1.7056179197592727"
      ]
     },
     "execution_count": 51,
     "metadata": {},
     "output_type": "execute_result"
    }
   ],
   "source": [
    "#mencari critical ragion \n",
    "#conclude t-statistics with crirical region\n",
    "\n",
    "stats.t.ppf(1-0.05,26)"
   ]
  },
  {
   "cell_type": "markdown",
   "id": "cc087c69-fafb-4648-8081-9fee0690436f",
   "metadata": {},
   "source": [
    "The Average is still 100"
   ]
  },
  {
   "cell_type": "code",
   "execution_count": null,
   "id": "e384756d-4163-4610-9215-b6706203b601",
   "metadata": {},
   "outputs": [],
   "source": []
  }
 ],
 "metadata": {
  "kernelspec": {
   "display_name": "Python 3 (ipykernel)",
   "language": "python",
   "name": "python3"
  },
  "language_info": {
   "codemirror_mode": {
    "name": "ipython",
    "version": 3
   },
   "file_extension": ".py",
   "mimetype": "text/x-python",
   "name": "python",
   "nbconvert_exporter": "python",
   "pygments_lexer": "ipython3",
   "version": "3.12.4"
  }
 },
 "nbformat": 4,
 "nbformat_minor": 5
}
