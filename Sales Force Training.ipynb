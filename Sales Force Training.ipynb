{
 "cells": [
  {
   "cell_type": "code",
   "execution_count": 1,
   "id": "309dabb9-e570-4d6f-b227-5f2fdd40736b",
   "metadata": {
    "executionInfo": {
     "elapsed": 584,
     "status": "ok",
     "timestamp": 1671520030242,
     "user": {
      "displayName": "Stephanie Fani",
      "userId": "03013489333346707504"
     },
     "user_tz": -420
    },
    "id": "309dabb9-e570-4d6f-b227-5f2fdd40736b"
   },
   "outputs": [],
   "source": [
    "#Import Libraries\n",
    "import pandas as pd\n",
    "import numpy as np\n",
    "import scipy.stats as stats\n",
    "import matplotlib.pyplot as plt"
   ]
  },
  {
   "cell_type": "code",
   "execution_count": 2,
   "id": "56587e98-c378-44b9-93f0-d796b76124ff",
   "metadata": {
    "colab": {
     "base_uri": "https://localhost:8080/",
     "height": 833
    },
    "executionInfo": {
     "elapsed": 4,
     "status": "ok",
     "timestamp": 1671520030243,
     "user": {
      "displayName": "Stephanie Fani",
      "userId": "03013489333346707504"
     },
     "user_tz": -420
    },
    "id": "56587e98-c378-44b9-93f0-d796b76124ff",
    "outputId": "34e681a7-bda2-4ea7-c895-b08208412753"
   },
   "outputs": [
    {
     "name": "stdout",
     "output_type": "stream",
     "text": [
      "    TransactionAmount\n",
      "0                 100\n",
      "1                 150\n",
      "2                  50\n",
      "3                 100\n",
      "4                 130\n",
      "5                 120\n",
      "6                 100\n",
      "7                  85\n",
      "8                  70\n",
      "9                 150\n",
      "10                150\n",
      "11                120\n",
      "12                 50\n",
      "13                100\n",
      "14                100\n",
      "15                140\n",
      "16                 90\n",
      "17                150\n",
      "18                 50\n",
      "19                 90\n",
      "20                120\n",
      "21                100\n",
      "22                110\n",
      "23                 75\n",
      "24                 65\n"
     ]
    }
   ],
   "source": [
    "#Create DataFrame\n",
    "# Data penjualan\n",
    "data = [100, 150, 50, 100, 130, 120, 100, 85, 70, 150, 150, 120, 50, 100, 100,\n",
    "        140, 90, 150, 50, 90, 120, 100, 110, 75, 65]\n",
    "\n",
    "# Membuat DataFrame\n",
    "df = pd.DataFrame(data, columns=['TransactionAmount'])\n",
    "\n",
    "# Menampilkan DataFrame\n",
    "print(df)"
   ]
  },
  {
   "cell_type": "code",
   "execution_count": 3,
   "id": "KOFYWfvUtfMx",
   "metadata": {
    "colab": {
     "base_uri": "https://localhost:8080/"
    },
    "executionInfo": {
     "elapsed": 6,
     "status": "ok",
     "timestamp": 1671520030708,
     "user": {
      "displayName": "Stephanie Fani",
      "userId": "03013489333346707504"
     },
     "user_tz": -420
    },
    "id": "KOFYWfvUtfMx",
    "outputId": "4d59d08d-7da4-4d66-c8e2-35761e1ac331"
   },
   "outputs": [
    {
     "name": "stdout",
     "output_type": "stream",
     "text": [
      "Mean (Rata-Rata): 102.6\n",
      "Median: 100.0\n",
      "Mode: [100]\n"
     ]
    }
   ],
   "source": [
    "#Central Tendency\n",
    "# Menghitung mean\n",
    "mean_value = df['TransactionAmount'].mean()\n",
    "\n",
    "# Menghitung median\n",
    "median_value = df['TransactionAmount'].median()\n",
    "\n",
    "# Menghitung mode\n",
    "mode_value = df['TransactionAmount'].mode()\n",
    "\n",
    "\n",
    "# Menampilkan hasil\n",
    "print(f\"Mean (Rata-Rata): {mean_value}\")\n",
    "print(f\"Median: {median_value}\")\n",
    "print(f\"Mode: {mode_value.values}\")"
   ]
  },
  {
   "cell_type": "markdown",
   "id": "8f9347b9-866b-4a5e-b98a-cad2d2274bc8",
   "metadata": {
    "executionInfo": {
     "elapsed": 1,
     "status": "ok",
     "timestamp": 1671520033894,
     "user": {
      "displayName": "Stephanie Fani",
      "userId": "03013489333346707504"
     },
     "user_tz": -420
    },
    "id": "ceRxEGdTt966"
   },
   "source": [
    "Interpretasi Hasil:\n",
    "\n",
    "- Mean (Rata-Rata): 105.0 menunjukkan bahwa nilai rata-rata transaksi adalah 105.\n",
    "\n",
    "- Median: 100.0 menunjukkan setengah dari transaksi lebih rendah dari 100 dan setengah lebih tinggi dari 100.\n",
    "      \n",
    "- Mode: [100] menunjukkan bahwa nilai 100 muncul paling sering dibandingkan nilai lainnya."
   ]
  },
  {
   "cell_type": "code",
   "execution_count": 7,
   "id": "UcbHy344uQ-G",
   "metadata": {
    "colab": {
     "base_uri": "https://localhost:8080/"
    },
    "executionInfo": {
     "elapsed": 525,
     "status": "ok",
     "timestamp": 1671520041794,
     "user": {
      "displayName": "Stephanie Fani",
      "userId": "03013489333346707504"
     },
     "user_tz": -420
    },
    "id": "UcbHy344uQ-G",
    "outputId": "0efd8348-3879-4a79-8085-fd842b5d1a60"
   },
   "outputs": [
    {
     "name": "stdout",
     "output_type": "stream",
     "text": [
      "Range (Rentang): 100\n",
      "Variance (Variansi): 1012.7499999999997\n",
      "Standard Deviation (Deviasi Standar): 31.82373328193912\n",
      "Interquartile Range (IQR): 35.0\n"
     ]
    }
   ],
   "source": [
    "# Variability\n",
    "# Menghitung rentang (range)\n",
    "data_range = df['TransactionAmount'].max() - df['TransactionAmount'].min()\n",
    "\n",
    "# Menghitung variansi\n",
    "variance = df['TransactionAmount'].var()\n",
    "\n",
    "# Menghitung deviasi standar (standard deviation)\n",
    "std_dev = df['TransactionAmount'].std()\n",
    "\n",
    "# Menghitung interquartile range (IQR)\n",
    "Q1 = df['TransactionAmount'].quantile(0.25)\n",
    "Q3 = df['TransactionAmount'].quantile(0.75)\n",
    "IQR = Q3 - Q1\n",
    "\n",
    "# Menampilkan hasil\n",
    "print(f\"Range (Rentang): {data_range}\")\n",
    "print(f\"Variance (Variansi): {variance}\")\n",
    "print(f\"Standard Deviation (Deviasi Standar): {std_dev}\")\n",
    "print(f\"Interquartile Range (IQR): {IQR}\")"
   ]
  },
  {
   "cell_type": "markdown",
   "id": "11c8faee-247b-4358-9ba3-b6e2b5eb87f8",
   "metadata": {
    "executionInfo": {
     "elapsed": 854,
     "status": "ok",
     "timestamp": 1671520098187,
     "user": {
      "displayName": "Stephanie Fani",
      "userId": "03013489333346707504"
     },
     "user_tz": -420
    },
    "id": "v_dl9Fneuabm"
   },
   "source": [
    "Range               \n",
    "\n",
    "Memberikan gambaran umum tentang seberapa besar variasi total dalam data. \n",
    "Rentang 100 menunjukkan perbedaan yang signifikan antara nilai maksimum dan minimum.\n",
    "\n",
    "Variance\n",
    "\n",
    "Mengukur seberapa tersebar nilai-nilai dari rata-rata dalam unit kuadrat.\n",
    "Variansi yang tinggi menunjukkan data yang sangat tersebar.\n",
    "    \n",
    "Standard Deviation\n",
    "\n",
    "Mengukur deviasi rata-rata dari rata-rata dalam unit yang sama dengan data. \n",
    "Deviasi standar 31.82 menunjukkan penyebaran data yang cukup luas di sekitar rata-rata.\n",
    "IQR (Interquartile Range): Menunjukkan rentang di mana 50% data berada,\n",
    "dengan IQR 35.0 menunjukkan variasi yang signifikan dalam data di sekitar median."
   ]
  },
  {
   "cell_type": "code",
   "execution_count": 8,
   "id": "3786f132-4bd1-4c72-a5d9-1044aa088818",
   "metadata": {
    "executionInfo": {
     "elapsed": 1,
     "status": "ok",
     "timestamp": 1671520106679,
     "user": {
      "displayName": "Stephanie Fani",
      "userId": "03013489333346707504"
     },
     "user_tz": -420
    },
    "id": "3786f132-4bd1-4c72-a5d9-1044aa088818"
   },
   "outputs": [],
   "source": [
    "#H0 = 100\n",
    "#H1 > 100\n",
    "#Define Alpha 0.05"
   ]
  },
  {
   "cell_type": "code",
   "execution_count": 9,
   "id": "d5e6c068-f560-4235-a860-8ece25920a28",
   "metadata": {},
   "outputs": [
    {
     "data": {
      "text/plain": [
       "25"
      ]
     },
     "execution_count": 9,
     "metadata": {},
     "output_type": "execute_result"
    }
   ],
   "source": [
    "len(df)"
   ]
  },
  {
   "cell_type": "code",
   "execution_count": 11,
   "id": "686e0fc4-84d5-4712-ae90-b47eb3ea44ac",
   "metadata": {
    "colab": {
     "base_uri": "https://localhost:8080/"
    },
    "executionInfo": {
     "elapsed": 2,
     "status": "ok",
     "timestamp": 1671520114452,
     "user": {
      "displayName": "Stephanie Fani",
      "userId": "03013489333346707504"
     },
     "user_tz": -420
    },
    "id": "686e0fc4-84d5-4712-ae90-b47eb3ea44ac",
    "outputId": "42c97137-4bef-4516-8b06-654df3bbaa93"
   },
   "outputs": [
    {
     "data": {
      "text/plain": [
       "TtestResult(statistic=array([0.40850016]), pvalue=array([0.68652848]), df=array([24]))"
      ]
     },
     "execution_count": 11,
     "metadata": {},
     "output_type": "execute_result"
    }
   ],
   "source": [
    "stats.ttest_1samp(a=df, popmean=100)"
   ]
  },
  {
   "cell_type": "code",
   "execution_count": null,
   "id": "592f6cf7",
   "metadata": {},
   "outputs": [],
   "source": [
    "#statistic= 0.40850016 , pvalue= 0.68652848"
   ]
  },
  {
   "cell_type": "code",
   "execution_count": 11,
   "id": "35c7de5f-3992-4872-98ea-9e9269b1557b",
   "metadata": {
    "executionInfo": {
     "elapsed": 435,
     "status": "ok",
     "timestamp": 1671520140175,
     "user": {
      "displayName": "Stephanie Fani",
      "userId": "03013489333346707504"
     },
     "user_tz": -420
    },
    "id": "35c7de5f-3992-4872-98ea-9e9269b1557b"
   },
   "outputs": [],
   "source": [
    "#conclude with Alpha and P-value\n",
    "#as the P-Value is Larger the Alpha (5%), then we Fail to Reject H0"
   ]
  },
  {
   "cell_type": "code",
   "execution_count": 13,
   "id": "9580db55-a594-4c1b-a5e6-3787906505c2",
   "metadata": {
    "executionInfo": {
     "elapsed": 1,
     "status": "ok",
     "timestamp": 1671520143687,
     "user": {
      "displayName": "Stephanie Fani",
      "userId": "03013489333346707504"
     },
     "user_tz": -420
    },
    "id": "9580db55-a594-4c1b-a5e6-3787906505c2"
   },
   "outputs": [
    {
     "data": {
      "text/plain": [
       "1.7056179197592727"
      ]
     },
     "execution_count": 13,
     "metadata": {},
     "output_type": "execute_result"
    }
   ],
   "source": [
    "#mencari critical ragion \n",
    "#conclude t-statistics with crirical region\n",
    "\n",
    "stats.t.ppf(1-0.05,26)"
   ]
  },
  {
   "cell_type": "code",
   "execution_count": 40,
   "id": "1429f038",
   "metadata": {},
   "outputs": [],
   "source": [
    "#H1 > 100"
   ]
  },
  {
   "cell_type": "markdown",
   "id": "18e16c5e-3243-4b4b-82c0-f3ce9290164c",
   "metadata": {
    "executionInfo": {
     "elapsed": 1,
     "status": "ok",
     "timestamp": 1671520153697,
     "user": {
      "displayName": "Stephanie Fani",
      "userId": "03013489333346707504"
     },
     "user_tz": -420
    },
    "id": "d6595428-5211-4cf7-bb61-ca8e201e6ef6"
   },
   "source": [
    "Critical region result\n",
    "1.7056179197592727\n",
    "The Average is still 100 "
   ]
  }
 ],
 "metadata": {
  "colab": {
   "provenance": []
  },
  "kernelspec": {
   "display_name": "Python 3 (ipykernel)",
   "language": "python",
   "name": "python3"
  },
  "language_info": {
   "codemirror_mode": {
    "name": "ipython",
    "version": 3
   },
   "file_extension": ".py",
   "mimetype": "text/x-python",
   "name": "python",
   "nbconvert_exporter": "python",
   "pygments_lexer": "ipython3",
   "version": "3.12.4"
  },
  "vscode": {
   "interpreter": {
    "hash": "5e70fd34aa919644e731ce0c71c5ec6c66d3b48eb7909f9a04da7ee7076ef028"
   }
  }
 },
 "nbformat": 4,
 "nbformat_minor": 5
}
